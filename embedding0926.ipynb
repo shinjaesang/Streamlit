{
 "cells": [
  {
   "cell_type": "code",
   "execution_count": 1,
   "metadata": {},
   "outputs": [
    {
     "name": "stdout",
     "output_type": "stream",
     "text": [
      "1\n"
     ]
    }
   ],
   "source": [
    "print(1)"
   ]
  },
  {
   "cell_type": "code",
   "execution_count": 2,
   "metadata": {},
   "outputs": [
    {
     "name": "stderr",
     "output_type": "stream",
     "text": [
      "c:\\Users\\AISW-203-108\\Desktop\\gridone\\venv0926\\lib\\site-packages\\sentence_transformers\\cross_encoder\\CrossEncoder.py:13: TqdmWarning: IProgress not found. Please update jupyter and ipywidgets. See https://ipywidgets.readthedocs.io/en/stable/user_install.html\n",
      "  from tqdm.autonotebook import tqdm, trange\n",
      "c:\\Users\\AISW-203-108\\Desktop\\gridone\\venv0926\\lib\\site-packages\\huggingface_hub\\file_download.py:147: UserWarning: `huggingface_hub` cache-system uses symlinks by default to efficiently store duplicated files but your machine does not support them in C:\\Users\\AISW-203-108\\.cache\\huggingface\\hub\\models--jhgan--ko-sroberta-multitask. Caching files will still work but in a degraded version that might require more space on your disk. This warning can be disabled by setting the `HF_HUB_DISABLE_SYMLINKS_WARNING` environment variable. For more details, see https://huggingface.co/docs/huggingface_hub/how-to-cache#limitations.\n",
      "To support symlinks on Windows, you either need to activate Developer Mode or to run Python as an administrator. In order to activate developer mode, see this article: https://docs.microsoft.com/en-us/windows/apps/get-started/enable-your-device-for-development\n",
      "  warnings.warn(message)\n",
      "c:\\Users\\AISW-203-108\\Desktop\\gridone\\venv0926\\lib\\site-packages\\transformers\\tokenization_utils_base.py:1617: FutureWarning: `clean_up_tokenization_spaces` was not set. It will be set to `True` by default. This behavior will be deprecated in transformers v4.45, and will be then set to `False` by default. For more details check this issue: https://github.com/huggingface/transformers/issues/31884\n",
      "  warnings.warn(\n"
     ]
    }
   ],
   "source": [
    "from sentence_transformers import SentenceTransformer, util\n",
    "import numpy as np\n",
    " \n",
    "embedder = SentenceTransformer(\"jhgan/ko-sroberta-multitask\")"
   ]
  },
  {
   "cell_type": "code",
   "execution_count": 3,
   "metadata": {},
   "outputs": [
    {
     "name": "stdout",
     "output_type": "stream",
     "text": [
      "tensor([[-4.1471e-01, -1.2158e-01,  2.9411e-01,  ...,  4.9623e-01,\n",
      "          1.9211e-01,  1.9770e-01],\n",
      "        [-1.5623e-01,  9.3865e-02,  3.8433e-01,  ..., -1.9108e-05,\n",
      "         -1.9683e-01,  4.0181e-01],\n",
      "        [-1.6551e-01, -1.7846e-01, -1.8657e-01,  ...,  2.3019e-01,\n",
      "          3.6638e-02,  1.2398e+00],\n",
      "        [-7.2847e-02,  8.0315e-01, -5.1985e-02,  ...,  3.2008e-01,\n",
      "          3.0738e-02, -2.2079e-01],\n",
      "        [ 2.3119e-01, -8.1295e-02,  5.7027e-01,  ..., -2.5537e-01,\n",
      "         -1.2411e-01, -7.8843e-02]])\n"
     ]
    }
   ],
   "source": [
    "# Corpus with example sentences\n",
    "corpus = ['나는 아침에 밥을 먹었다.',\n",
    "          '나는 점심에 운동을 한다.',\n",
    "          '나는 저녁에 책을 읽는다.',\n",
    "          '나는 자정에 컴퓨터를 한다.',\n",
    "          '나는 새벽에 잠을 잔다.']\n",
    " \n",
    "corpus_embeddings = embedder.encode(corpus, convert_to_tensor=True)\n",
    "print(corpus_embeddings)\n",
    " "
   ]
  },
  {
   "cell_type": "code",
   "execution_count": 4,
   "metadata": {},
   "outputs": [
    {
     "name": "stdout",
     "output_type": "stream",
     "text": [
      "\n",
      "\n",
      "======================\n",
      "\n",
      "\n",
      "Query: 나는 정오에 조깅을 한다.\n",
      "\n",
      "Top 5 most similar sentences in corpus:\n",
      "나는 점심에 운동을 한다. (Score: 0.6833)\n",
      "나는 아침에 밥을 먹었다. (Score: 0.3104)\n",
      "나는 자정에 컴퓨터를 한다. (Score: 0.3095)\n",
      "나는 새벽에 잠을 잔다. (Score: 0.2267)\n",
      "나는 저녁에 책을 읽는다. (Score: 0.1944)\n"
     ]
    }
   ],
   "source": [
    "# Query sentences:\n",
    "queries = ['나는 정오에 조깅을 한다.']\n",
    " \n",
    "# Find the closest 5 sentences of the corpus for each query sentence based on cosine similarity\n",
    "top_k = 5\n",
    "for query in queries:\n",
    " query_embedding = embedder.encode(query, convert_to_tensor=True)\n",
    " cos_scores = util.pytorch_cos_sim(query_embedding, corpus_embeddings)[0]\n",
    " cos_scores = cos_scores.cpu()\n",
    " \n",
    " #We use np.argpartition, to only partially sort the top_k results\n",
    " top_results = np.argpartition(-cos_scores, range(top_k))[0:top_k]\n",
    " \n",
    " \n",
    " \n",
    " print(\"\\n\\n======================\\n\\n\")\n",
    " print(\"Query:\", query)\n",
    " print(\"\\nTop 5 most similar sentences in corpus:\")\n",
    " \n",
    " for idx in top_results[0:top_k]:\n",
    "  print(corpus[idx].strip(), \"(Score: %.4f)\" % (cos_scores[idx]))"
   ]
  }
 ],
 "metadata": {
  "kernelspec": {
   "display_name": "venv0926",
   "language": "python",
   "name": "python3"
  },
  "language_info": {
   "codemirror_mode": {
    "name": "ipython",
    "version": 3
   },
   "file_extension": ".py",
   "mimetype": "text/x-python",
   "name": "python",
   "nbconvert_exporter": "python",
   "pygments_lexer": "ipython3",
   "version": "3.10.11"
  }
 },
 "nbformat": 4,
 "nbformat_minor": 2
}
