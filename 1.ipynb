{
 "cells": [
  {
   "cell_type": "code",
   "execution_count": 1,
   "metadata": {},
   "outputs": [
    {
     "name": "stdout",
     "output_type": "stream",
     "text": [
      "1\n"
     ]
    }
   ],
   "source": [
    "print(1)\n"
   ]
  },
  {
   "cell_type": "code",
   "execution_count": 7,
   "metadata": {},
   "outputs": [
    {
     "name": "stdout",
     "output_type": "stream",
     "text": [
      "Hello, I'm PolitechBot. How can I assist you today?\n"
     ]
    }
   ],
   "source": [
    "#local ollama inference\n",
    "\n",
    "import ollama\n",
    "\n",
    "response = ollama.chat(model='qwen2.5:7b', messages=[\n",
    "    {'role': 'system', 'content': '''1. 본인 이름이 폴리텍봇으로 인식할 것,\n",
    "    2. 사용자가 입력을 넣었을 때 자동으로 영어로 번역해서 출력할 것,\n",
    "    3. 대화영이 아니라, 사용자의 말을 번역할 결과물을 출력할 것,\n",
    "    4. 영어만 출력할 것'''},\n",
    "    {'role': 'user', 'content': 'introduce yorself'}\n",
    "])\n",
    "\n",
    "print(response['message']['content'])\n"
   ]
  }
 ],
 "metadata": {
  "kernelspec": {
   "display_name": "venv",
   "language": "python",
   "name": "python3"
  },
  "language_info": {
   "codemirror_mode": {
    "name": "ipython",
    "version": 3
   },
   "file_extension": ".py",
   "mimetype": "text/x-python",
   "name": "python",
   "nbconvert_exporter": "python",
   "pygments_lexer": "ipython3",
   "version": "3.10.11"
  }
 },
 "nbformat": 4,
 "nbformat_minor": 2
}
